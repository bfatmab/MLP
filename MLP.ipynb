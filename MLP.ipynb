{
  "nbformat": 4,
  "nbformat_minor": 0,
  "metadata": {
    "colab": {
      "provenance": [],
      "authorship_tag": "ABX9TyO7RpHQ7fRuYY4EZ+RzrBoT",
      "include_colab_link": true
    },
    "kernelspec": {
      "name": "python3",
      "display_name": "Python 3"
    },
    "language_info": {
      "name": "python"
    }
  },
  "cells": [
    {
      "cell_type": "markdown",
      "metadata": {
        "id": "view-in-github",
        "colab_type": "text"
      },
      "source": [
        "<a href=\"https://colab.research.google.com/github/bfatmab/MLP/blob/main/MLP.ipynb\" target=\"_parent\"><img src=\"https://colab.research.google.com/assets/colab-badge.svg\" alt=\"Open In Colab\"/></a>"
      ]
    },
    {
      "cell_type": "markdown",
      "source": [
        "Google Drive Bağlantısı"
      ],
      "metadata": {
        "id": "WYSOn_OYAPTU"
      }
    },
    {
      "cell_type": "code",
      "execution_count": null,
      "metadata": {
        "colab": {
          "base_uri": "https://localhost:8080/"
        },
        "id": "JWGEEvyL_Dds",
        "outputId": "eb3e2f0b-8aec-4b71-f4a7-41e80aa7a537"
      },
      "outputs": [
        {
          "output_type": "stream",
          "name": "stdout",
          "text": [
            "Mounted at /content/gdrive\n"
          ]
        }
      ],
      "source": [
        "#google drive a bağlantı\n",
        "from google.colab import drive\n",
        "drive.mount('/content/gdrive')\n"
      ]
    },
    {
      "cell_type": "code",
      "source": [
        "#yerini belirleme\n",
        "%cd gdrive/My Drive/Colab Notebooks"
      ],
      "metadata": {
        "colab": {
          "base_uri": "https://localhost:8080/"
        },
        "id": "8oUuPE5AAJ_-",
        "outputId": "5c3e6967-d1a8-48bc-cb6b-8466f9be906a"
      },
      "execution_count": null,
      "outputs": [
        {
          "output_type": "stream",
          "name": "stdout",
          "text": [
            "/content/gdrive/My Drive/Colab Notebooks\n"
          ]
        }
      ]
    },
    {
      "cell_type": "code",
      "source": [
        "#listeleme\n",
        "%ls"
      ],
      "metadata": {
        "colab": {
          "base_uri": "https://localhost:8080/"
        },
        "id": "uuHfMfHcA8TX",
        "outputId": "1a249dc6-ee95-4714-f0a9-2c1a3551f062"
      },
      "execution_count": null,
      "outputs": [
        {
          "output_type": "stream",
          "name": "stdout",
          "text": [
            " 2022_YZ_Veriseti.csv   ANN.ipynb   deneme2.h5  'Numara_AdSoyad_MLP .docx'\n"
          ]
        }
      ]
    },
    {
      "cell_type": "markdown",
      "source": [
        "MLP Yapısının Kurulumu"
      ],
      "metadata": {
        "id": "mAzdY7rJBL9Q"
      }
    },
    {
      "cell_type": "code",
      "source": [
        "#Gereken kütüphaneler yüklenmeli\n",
        "from keras.models import Sequential\n",
        "from keras.layers import Dense\n",
        "import numpy\n",
        "\n",
        "numpy.random.seed(9)\n",
        "#veriseti yükleme\n",
        "dataset=numpy.loadtxt(\"2022_YZ_Veriseti.csv\", delimiter=\",\")\n",
        "\n",
        "#datalar 0:10 arası featurelar alındı\n",
        "datalar=dataset[:,0:10]\n",
        "\n",
        "#etiketler 10. indis class (outcome) alındı\n",
        "etiketler=dataset[:,10]\n"
      ],
      "metadata": {
        "id": "sziEfE31BJia"
      },
      "execution_count": null,
      "outputs": []
    },
    {
      "cell_type": "code",
      "source": [
        "# from keras.activations import sigmoid\n",
        "model=Sequential()\n",
        "#10 girişli olduğu için input_dim=9 secildi\n",
        "model.add(Dense(50,input_dim=10, activation='relu'))\n",
        "#hidden layer 2 input_dim yazılmaz.\n",
        "model.add(Dense(100,activation='relu'))\n",
        "#Cikis icin cikisla ifade edilebilir\n",
        "model.add(Dense(3,activation ='sigmoid'))\n",
        "\n",
        "#activation= sigmoid, relu, linear,tanh\n",
        "\n",
        "#Modeli derleyelim\n",
        "model.compile(loss='sparse_categorical_crossentropy',optimizer='adam',metrics=['accuracy'])\n",
        "\n",
        "#loss= KLD,mae,mse,mean_squared,cosine_proximity, binary_crosssentropy ,poisson\n",
        "\n",
        "#bacth_size : Eğitim siraisinda verisetinden ornekler kacar kacar alinacak\n",
        "model.fit(datalar,etiketler ,epochs=300,batch_size=10)\n",
        "basarim=model.evaluate(datalar,etiketler)\n",
        "\n",
        "print(\"\\n %s: %.2f%% \" %(model.metrics_names[1],basarim[1]*100))"
      ],
      "metadata": {
        "id": "qAAXsJ-UC1Wb"
      },
      "execution_count": null,
      "outputs": []
    },
    {
      "cell_type": "code",
      "source": [
        "model.save(\"deneme2.h5\")"
      ],
      "metadata": {
        "id": "v6WOmKp4pGTd"
      },
      "execution_count": null,
      "outputs": []
    },
    {
      "cell_type": "code",
      "source": [
        "model.summary()"
      ],
      "metadata": {
        "colab": {
          "base_uri": "https://localhost:8080/"
        },
        "id": "M-H7etF7sgaQ",
        "outputId": "4e7fa0ff-0610-44ae-ba68-7b1edc060a9d"
      },
      "execution_count": null,
      "outputs": [
        {
          "output_type": "stream",
          "name": "stdout",
          "text": [
            "Model: \"sequential_18\"\n",
            "_________________________________________________________________\n",
            " Layer (type)                Output Shape              Param #   \n",
            "=================================================================\n",
            " dense_54 (Dense)            (None, 50)                550       \n",
            "                                                                 \n",
            " dense_55 (Dense)            (None, 100)               5100      \n",
            "                                                                 \n",
            " dense_56 (Dense)            (None, 3)                 303       \n",
            "                                                                 \n",
            "=================================================================\n",
            "Total params: 5,953\n",
            "Trainable params: 5,953\n",
            "Non-trainable params: 0\n",
            "_________________________________________________________________\n"
          ]
        }
      ]
    }
  ]
}